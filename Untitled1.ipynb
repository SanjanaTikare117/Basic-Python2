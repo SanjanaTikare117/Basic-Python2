{
  "nbformat": 4,
  "nbformat_minor": 0,
  "metadata": {
    "colab": {
      "provenance": [],
      "authorship_tag": "ABX9TyPbbTRlRwMcm1iXyeJ0Ylab",
      "include_colab_link": true
    },
    "kernelspec": {
      "name": "python3",
      "display_name": "Python 3"
    },
    "language_info": {
      "name": "python"
    }
  },
  "cells": [
    {
      "cell_type": "markdown",
      "metadata": {
        "id": "view-in-github",
        "colab_type": "text"
      },
      "source": [
        "<a href=\"https://colab.research.google.com/github/SanjanaTikare117/Basic-Python2/blob/main/Untitled1.ipynb\" target=\"_parent\"><img src=\"https://colab.research.google.com/assets/colab-badge.svg\" alt=\"Open In Colab\"/></a>"
      ]
    },
    {
      "cell_type": "code",
      "execution_count": null,
      "metadata": {
        "id": "Khaxqge6w0VD"
      },
      "outputs": [],
      "source": [
        "L2=list([10,20,30])"
      ]
    },
    {
      "cell_type": "code",
      "source": [
        "#create a string of multiple data types\n",
        "L1=list([\"APPLE\",\"BANANA\",\"GRAPES\"])"
      ],
      "metadata": {
        "id": "MOXtfc9gxCyR"
      },
      "execution_count": null,
      "outputs": []
    },
    {
      "cell_type": "code",
      "source": [
        "L2"
      ],
      "metadata": {
        "colab": {
          "base_uri": "https://localhost:8080/"
        },
        "id": "fc0OEfJ_xy7S",
        "outputId": "fffec54c-8e16-4644-bca8-ce2be0ff248a"
      },
      "execution_count": null,
      "outputs": [
        {
          "output_type": "execute_result",
          "data": {
            "text/plain": [
              "[10, 20, 30]"
            ]
          },
          "metadata": {},
          "execution_count": 3
        }
      ]
    },
    {
      "cell_type": "code",
      "source": [
        "L1"
      ],
      "metadata": {
        "colab": {
          "base_uri": "https://localhost:8080/"
        },
        "id": "1qqq8UCEx00a",
        "outputId": "ec94ec14-4d29-41b6-a77a-5e1f7e457018"
      },
      "execution_count": null,
      "outputs": [
        {
          "output_type": "execute_result",
          "data": {
            "text/plain": [
              "['APPLE', 'BANANA', 'GRAPES']"
            ]
          },
          "metadata": {},
          "execution_count": 4
        }
      ]
    },
    {
      "cell_type": "code",
      "source": [
        "#create a list of multiple data type using for loop\n",
        "L1=list([\"apple\",\"banana\",\"grapes\",\"mango\"])\n",
        "for  i in L1:\n",
        "  print(i)"
      ],
      "metadata": {
        "colab": {
          "base_uri": "https://localhost:8080/"
        },
        "id": "3MQXwClZx2jy",
        "outputId": "6229998a-37cb-4835-b288-dd2bf97369d2"
      },
      "execution_count": null,
      "outputs": [
        {
          "output_type": "stream",
          "name": "stdout",
          "text": [
            "apple\n",
            "banana\n",
            "grapes\n",
            "mango\n"
          ]
        }
      ]
    },
    {
      "cell_type": "code",
      "source": [
        "L1=([\"apple\",10,19.8])\n",
        "for i in range(-3,0):\n",
        "  print(L1[i])"
      ],
      "metadata": {
        "colab": {
          "base_uri": "https://localhost:8080/"
        },
        "id": "bkjgDffky5UJ",
        "outputId": "1096955d-84a2-4269-b4e4-304c7e9b2bb1"
      },
      "execution_count": null,
      "outputs": [
        {
          "output_type": "stream",
          "name": "stdout",
          "text": [
            "apple\n",
            "10\n",
            "19.8\n"
          ]
        }
      ]
    },
    {
      "cell_type": "code",
      "source": [
        "L1=([\"Apple\",10,19.8])\n",
        "for i in range(-1,-4,-1):\n",
        " print(L1[i])"
      ],
      "metadata": {
        "colab": {
          "base_uri": "https://localhost:8080/"
        },
        "id": "y3c2WTCnzs7A",
        "outputId": "c450abb4-7b7e-4989-a1ac-452a1d72c13d"
      },
      "execution_count": null,
      "outputs": [
        {
          "output_type": "stream",
          "name": "stdout",
          "text": [
            "19.8\n",
            "10\n",
            "Apple\n"
          ]
        }
      ]
    },
    {
      "cell_type": "code",
      "source": [
        "l=([1,2,3,4,5,6,7,8,9,10])\n",
        "c=l[0:4]\n",
        "c"
      ],
      "metadata": {
        "colab": {
          "base_uri": "https://localhost:8080/"
        },
        "id": "xuQHC0If0zVP",
        "outputId": "41c5e960-4b6f-4074-9f44-9bf0d16d8857"
      },
      "execution_count": null,
      "outputs": [
        {
          "output_type": "execute_result",
          "data": {
            "text/plain": [
              "[1, 2, 3, 4]"
            ]
          },
          "metadata": {},
          "execution_count": 13
        }
      ]
    },
    {
      "cell_type": "code",
      "source": [
        "l=list(range(0,21))\n",
        "for i in l:\n",
        "  if(l[i]%2==0):\n",
        "    print(l[i], end=\" \")\n",
        "  c=l[0:21:2]\n",
        "  print('\\n',c)"
      ],
      "metadata": {
        "id": "qw97hrrz2H4n"
      },
      "execution_count": null,
      "outputs": []
    },
    {
      "cell_type": "code",
      "source": [
        "l=list(range(0,21))\n",
        "for i in l:\n",
        "  if(l[i]%5==0):\n",
        "    print(l[i], end=\" \")\n",
        "  c=l[0:21:5]\n",
        "  print('/n',c)"
      ],
      "metadata": {
        "id": "ydD8jPG52VYf",
        "outputId": "28f69d61-2e85-4b06-a763-01e54db60cd9",
        "colab": {
          "base_uri": "https://localhost:8080/"
        }
      },
      "execution_count": null,
      "outputs": [
        {
          "output_type": "stream",
          "name": "stdout",
          "text": [
            "0 /n [0, 5, 10, 15, 20]\n",
            "/n [0, 5, 10, 15, 20]\n",
            "/n [0, 5, 10, 15, 20]\n",
            "/n [0, 5, 10, 15, 20]\n",
            "/n [0, 5, 10, 15, 20]\n",
            "5 /n [0, 5, 10, 15, 20]\n",
            "/n [0, 5, 10, 15, 20]\n",
            "/n [0, 5, 10, 15, 20]\n",
            "/n [0, 5, 10, 15, 20]\n",
            "/n [0, 5, 10, 15, 20]\n",
            "10 /n [0, 5, 10, 15, 20]\n",
            "/n [0, 5, 10, 15, 20]\n",
            "/n [0, 5, 10, 15, 20]\n",
            "/n [0, 5, 10, 15, 20]\n",
            "/n [0, 5, 10, 15, 20]\n",
            "15 /n [0, 5, 10, 15, 20]\n",
            "/n [0, 5, 10, 15, 20]\n",
            "/n [0, 5, 10, 15, 20]\n",
            "/n [0, 5, 10, 15, 20]\n",
            "/n [0, 5, 10, 15, 20]\n",
            "20 /n [0, 5, 10, 15, 20]\n"
          ]
        }
      ]
    },
    {
      "cell_type": "code",
      "source": [
        "l=list(range(0,21))\n",
        "c=l[::3]\n",
        "rev=c[::-1]\n",
        "print('\\n',c)\n",
        "print('\\n',rev)"
      ],
      "metadata": {
        "colab": {
          "base_uri": "https://localhost:8080/"
        },
        "id": "J7A0LiwU4M8P",
        "outputId": "68e0f268-3383-4e30-b1a4-6a8f73f8fe3c"
      },
      "execution_count": null,
      "outputs": [
        {
          "output_type": "stream",
          "name": "stdout",
          "text": [
            "\n",
            " [0, 3, 6, 9, 12, 15, 18]\n",
            "\n",
            " [18, 15, 12, 9, 6, 3, 0]\n"
          ]
        }
      ]
    },
    {
      "cell_type": "code",
      "source": [
        "l=list(range(0,21))\n",
        "c=l[::2]\n",
        "rev=c[::+1]\n",
        "print('\\n',c)\n",
        "print('\\n',rev)"
      ],
      "metadata": {
        "colab": {
          "base_uri": "https://localhost:8080/"
        },
        "id": "uQWBzJNl46Rd",
        "outputId": "9b7e7136-a1bd-4d45-d21b-d88cac7f7daf"
      },
      "execution_count": null,
      "outputs": [
        {
          "output_type": "stream",
          "name": "stdout",
          "text": [
            "\n",
            " [0, 2, 4, 6, 8, 10, 12, 14, 16, 18, 20]\n",
            "\n",
            " [0, 2, 4, 6, 8, 10, 12, 14, 16, 18, 20]\n"
          ]
        }
      ]
    },
    {
      "cell_type": "code",
      "source": [
        "l=list(range(0,21))\n",
        "x=l[0:20:2]\n",
        "print(x)"
      ],
      "metadata": {
        "colab": {
          "base_uri": "https://localhost:8080/"
        },
        "id": "OJ_4PJUt57zr",
        "outputId": "92c395a4-7b19-49c1-8ad2-80a6ab153cdf"
      },
      "execution_count": null,
      "outputs": [
        {
          "output_type": "stream",
          "name": "stdout",
          "text": [
            "[0, 2, 4, 6, 8, 10, 12, 14, 16, 18]\n"
          ]
        }
      ]
    },
    {
      "cell_type": "code",
      "source": [
        "l=list(range(0,21))\n",
        "x=l[0:20:2]\n",
        "print(x)\n",
        "rev=x[::-1]\n",
        "print(rev)"
      ],
      "metadata": {
        "colab": {
          "base_uri": "https://localhost:8080/"
        },
        "id": "MTSOaTEK6bNl",
        "outputId": "e56fbdab-80a8-4e51-d6e4-0b09c4509432"
      },
      "execution_count": null,
      "outputs": [
        {
          "output_type": "stream",
          "name": "stdout",
          "text": [
            "[0, 2, 4, 6, 8, 10, 12, 14, 16, 18]\n",
            "[18, 16, 14, 12, 10, 8, 6, 4, 2, 0]\n"
          ]
        }
      ]
    },
    {
      "cell_type": "code",
      "source": [
        "l=list(range(0,101))\n",
        "x=l[0:100:5]\n",
        "print(x)\n"
      ],
      "metadata": {
        "colab": {
          "base_uri": "https://localhost:8080/"
        },
        "id": "gb7dBbjO6nsE",
        "outputId": "673a94d5-6d28-4669-96c6-b6471ff06aff"
      },
      "execution_count": null,
      "outputs": [
        {
          "output_type": "stream",
          "name": "stdout",
          "text": [
            "[0, 5, 10, 15, 20, 25, 30, 35, 40, 45, 50, 55, 60, 65, 70, 75, 80, 85, 90, 95]\n"
          ]
        }
      ]
    },
    {
      "cell_type": "code",
      "source": [
        "l=list(range(0,21))\n",
        "x=l[::+1]\n",
        "print(x)"
      ],
      "metadata": {
        "colab": {
          "base_uri": "https://localhost:8080/"
        },
        "id": "IlpjUBwg6x99",
        "outputId": "47924619-4c52-430a-dfac-e34250864ea7"
      },
      "execution_count": null,
      "outputs": [
        {
          "output_type": "stream",
          "name": "stdout",
          "text": [
            "[0, 1, 2, 3, 4, 5, 6, 7, 8, 9, 10, 11, 12, 13, 14, 15, 16, 17, 18, 19, 20]\n"
          ]
        }
      ]
    },
    {
      "cell_type": "code",
      "source": [
        "l=(100,29,35,36,47,58)\n",
        "print(len(l))\n",
        "print(max(l))\n",
        "print(min(l))\n",
        "print(sum(l))\n",
        "\n",
        "print(l)"
      ],
      "metadata": {
        "colab": {
          "base_uri": "https://localhost:8080/"
        },
        "id": "yoae-P4t7Xmk",
        "outputId": "6fb3fe08-96fb-4eff-b4f0-6a7ec7f85f30"
      },
      "execution_count": null,
      "outputs": [
        {
          "output_type": "stream",
          "name": "stdout",
          "text": [
            "6\n",
            "100\n",
            "29\n",
            "305\n",
            "(100, 29, 35, 36, 47, 58)\n"
          ]
        }
      ]
    },
    {
      "cell_type": "code",
      "source": [
        "l=list(range(0,101))\n",
        "x=l[2:100:2]\n",
        "y=l[0:100:1]\n",
        "z=l[0:100:7]\n",
        "a=l[0:100:6]\n",
        "print(\"minumum of even number \",min(x))\n",
        "print(\"maximum of odd number\",max(y))\n",
        "print(\"sum of multiples of 7 from 0-100\",sum(z))\n",
        "print(\"len of multiples of 6 is\",len(a))"
      ],
      "metadata": {
        "colab": {
          "base_uri": "https://localhost:8080/"
        },
        "id": "0fAJqBUg8Hrz",
        "outputId": "3e613c09-fa54-4a7b-bc6f-266fb5fbde2b"
      },
      "execution_count": null,
      "outputs": [
        {
          "output_type": "stream",
          "name": "stdout",
          "text": [
            "minumum of even number  2\n",
            "maximum of odd number 99\n",
            "sum of multiples of 7 from 0-100 735\n",
            "len of multiples of 6 is 17\n"
          ]
        }
      ]
    },
    {
      "cell_type": "code",
      "source": [
        "l1=([1,2,3,4,5,6])\n",
        "Ieven=[i for i in l1 if i%2==0]\n",
        "print(Ieven)"
      ],
      "metadata": {
        "colab": {
          "base_uri": "https://localhost:8080/"
        },
        "id": "R6yyvQRbBWIP",
        "outputId": "90fa9601-1d38-4b5b-a81e-47bfb0680bc7"
      },
      "execution_count": null,
      "outputs": [
        {
          "output_type": "stream",
          "name": "stdout",
          "text": [
            "[2, 4, 6]\n"
          ]
        }
      ]
    },
    {
      "cell_type": "markdown",
      "source": [],
      "metadata": {
        "id": "nuZTYP0ME83A"
      }
    },
    {
      "cell_type": "code",
      "source": [
        "b=[i** for range(11)]\n",
        "print(b)"
      ],
      "metadata": {
        "colab": {
          "base_uri": "https://localhost:8080/",
          "height": 130
        },
        "id": "wrb31q8EFD4_",
        "outputId": "f3c1a3c6-6174-430c-a980-58f43eac524b"
      },
      "execution_count": null,
      "outputs": [
        {
          "output_type": "error",
          "ename": "SyntaxError",
          "evalue": "ignored",
          "traceback": [
            "\u001b[0;36m  File \u001b[0;32m\"<ipython-input-79-538f03a1e330>\"\u001b[0;36m, line \u001b[0;32m1\u001b[0m\n\u001b[0;31m    b=[i*i for range(11)]\u001b[0m\n\u001b[0m                        ^\u001b[0m\n\u001b[0;31mSyntaxError\u001b[0m\u001b[0;31m:\u001b[0m invalid syntax\n"
          ]
        }
      ]
    },
    {
      "cell_type": "code",
      "source": [
        "#create a list to genrate cubes of number from 1 to 10\n",
        "a=list(range(0,10))\n",
        "print(a)\n",
        "a=[x for i in range(11)]\n",
        "print (a)"
      ],
      "metadata": {
        "id": "rxo4IjA7Dnnf"
      },
      "execution_count": null,
      "outputs": []
    },
    {
      "cell_type": "code",
      "source": [],
      "metadata": {
        "id": "wDNXQ9OuFm8V"
      },
      "execution_count": null,
      "outputs": []
    },
    {
      "cell_type": "code",
      "source": [],
      "metadata": {
        "id": "DkEuSUH7FnAQ"
      },
      "execution_count": null,
      "outputs": []
    },
    {
      "cell_type": "code",
      "source": [],
      "metadata": {
        "id": "tn7PzI4kFnC_"
      },
      "execution_count": null,
      "outputs": []
    },
    {
      "cell_type": "code",
      "source": [],
      "metadata": {
        "id": "rn6t6WE5FnF2"
      },
      "execution_count": null,
      "outputs": []
    },
    {
      "cell_type": "code",
      "source": [],
      "metadata": {
        "id": "qRFGJ5IaFnIe"
      },
      "execution_count": null,
      "outputs": []
    },
    {
      "cell_type": "code",
      "source": [],
      "metadata": {
        "id": "vusnJ6CqFnKt"
      },
      "execution_count": null,
      "outputs": []
    },
    {
      "cell_type": "code",
      "source": [],
      "metadata": {
        "id": "JzkrwhOnFnNt"
      },
      "execution_count": null,
      "outputs": []
    },
    {
      "cell_type": "code",
      "source": [],
      "metadata": {
        "id": "CEHit4FPFmz_"
      },
      "execution_count": null,
      "outputs": []
    },
    {
      "cell_type": "code",
      "source": [],
      "metadata": {
        "id": "MhnzbQxoFnTD"
      },
      "execution_count": null,
      "outputs": []
    },
    {
      "cell_type": "code",
      "source": [],
      "metadata": {
        "id": "0WHNyC9OFnQL"
      },
      "execution_count": null,
      "outputs": []
    },
    {
      "cell_type": "code",
      "source": [],
      "metadata": {
        "id": "Q1PYsgH8FVse"
      },
      "execution_count": null,
      "outputs": []
    }
  ]
}